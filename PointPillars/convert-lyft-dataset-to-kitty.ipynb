{
 "cells": [
  {
   "cell_type": "markdown",
   "metadata": {},
   "source": [
    "## In this kernel we convert LEVEL5 Lyft data (NuScenes format) to KITTI format, which is usually used in public repositories. After this you can search for repos, that solve KITTI 3d-detection task.\n",
    "\n",
    "## Thanks to https://www.kaggle.com/stalkermustang/converting-lyft-dataset-to-kitty-format\n",
    "### This above version by user - stalkermustang was not working for me so made little changes below"
   ]
  },
  {
   "cell_type": "code",
   "execution_count": 1,
   "metadata": {
    "_cell_guid": "b1076dfc-b9ad-4769-8c92-a6c4dae69d19",
    "_uuid": "8f2839f25d086af736a60e9eeb907d3b93b6e0e5"
   },
   "outputs": [
    {
     "name": "stdout",
     "output_type": "stream",
     "text": [
      "Requirement already satisfied: nuscenes-devkit in /home/chris/anaconda3/envs/lyft/lib/python3.9/site-packages (1.1.10)\n",
      "Requirement already satisfied: Shapely<=1.8.5 in /home/chris/anaconda3/envs/lyft/lib/python3.9/site-packages (from nuscenes-devkit) (1.8.5)\n",
      "Requirement already satisfied: fire in /home/chris/anaconda3/envs/lyft/lib/python3.9/site-packages (from nuscenes-devkit) (0.5.0)\n",
      "Requirement already satisfied: tqdm in /home/chris/anaconda3/envs/lyft/lib/python3.9/site-packages (from nuscenes-devkit) (4.65.0)\n",
      "Requirement already satisfied: numpy in /home/chris/anaconda3/envs/lyft/lib/python3.9/site-packages (from nuscenes-devkit) (1.24.2)\n",
      "Requirement already satisfied: opencv-python in /home/chris/anaconda3/envs/lyft/lib/python3.9/site-packages (from nuscenes-devkit) (4.7.0.72)\n",
      "Requirement already satisfied: pyquaternion>=0.9.5 in /home/chris/anaconda3/envs/lyft/lib/python3.9/site-packages (from nuscenes-devkit) (0.9.9)\n",
      "Requirement already satisfied: Pillow>6.2.1 in /home/chris/anaconda3/envs/lyft/lib/python3.9/site-packages (from nuscenes-devkit) (9.5.0)\n",
      "Requirement already satisfied: pycocotools>=2.0.1 in /home/chris/anaconda3/envs/lyft/lib/python3.9/site-packages (from nuscenes-devkit) (2.0.6)\n",
      "Requirement already satisfied: scikit-learn in /home/chris/anaconda3/envs/lyft/lib/python3.9/site-packages (from nuscenes-devkit) (1.2.2)\n",
      "Requirement already satisfied: jupyter in /home/chris/anaconda3/envs/lyft/lib/python3.9/site-packages (from nuscenes-devkit) (1.0.0)\n",
      "Requirement already satisfied: cachetools in /home/chris/anaconda3/envs/lyft/lib/python3.9/site-packages (from nuscenes-devkit) (5.3.0)\n",
      "Requirement already satisfied: descartes in /home/chris/anaconda3/envs/lyft/lib/python3.9/site-packages (from nuscenes-devkit) (1.1.0)\n",
      "Requirement already satisfied: scipy in /home/chris/anaconda3/envs/lyft/lib/python3.9/site-packages (from nuscenes-devkit) (1.10.1)\n",
      "Requirement already satisfied: matplotlib<=3.5.2 in /home/chris/anaconda3/envs/lyft/lib/python3.9/site-packages (from nuscenes-devkit) (3.5.2)\n",
      "Requirement already satisfied: cycler>=0.10 in /home/chris/anaconda3/envs/lyft/lib/python3.9/site-packages (from matplotlib<=3.5.2->nuscenes-devkit) (0.11.0)\n",
      "Requirement already satisfied: fonttools>=4.22.0 in /home/chris/anaconda3/envs/lyft/lib/python3.9/site-packages (from matplotlib<=3.5.2->nuscenes-devkit) (4.39.3)\n",
      "Requirement already satisfied: kiwisolver>=1.0.1 in /home/chris/anaconda3/envs/lyft/lib/python3.9/site-packages (from matplotlib<=3.5.2->nuscenes-devkit) (1.4.4)\n",
      "Requirement already satisfied: packaging>=20.0 in /home/chris/anaconda3/envs/lyft/lib/python3.9/site-packages (from matplotlib<=3.5.2->nuscenes-devkit) (23.0)\n",
      "Requirement already satisfied: python-dateutil>=2.7 in /home/chris/anaconda3/envs/lyft/lib/python3.9/site-packages (from matplotlib<=3.5.2->nuscenes-devkit) (2.8.2)\n",
      "Requirement already satisfied: pyparsing>=2.2.1 in /home/chris/anaconda3/envs/lyft/lib/python3.9/site-packages (from matplotlib<=3.5.2->nuscenes-devkit) (3.0.9)\n",
      "Requirement already satisfied: six in /home/chris/anaconda3/envs/lyft/lib/python3.9/site-packages (from fire->nuscenes-devkit) (1.16.0)\n",
      "Requirement already satisfied: termcolor in /home/chris/anaconda3/envs/lyft/lib/python3.9/site-packages (from fire->nuscenes-devkit) (2.2.0)\n",
      "Requirement already satisfied: jupyter-console in /home/chris/anaconda3/envs/lyft/lib/python3.9/site-packages (from jupyter->nuscenes-devkit) (6.6.3)\n",
      "Requirement already satisfied: nbconvert in /home/chris/anaconda3/envs/lyft/lib/python3.9/site-packages (from jupyter->nuscenes-devkit) (7.2.10)\n",
      "Requirement already satisfied: notebook in /home/chris/anaconda3/envs/lyft/lib/python3.9/site-packages (from jupyter->nuscenes-devkit) (6.5.3)\n",
      "Requirement already satisfied: ipywidgets in /home/chris/anaconda3/envs/lyft/lib/python3.9/site-packages (from jupyter->nuscenes-devkit) (8.0.6)\n",
      "Requirement already satisfied: qtconsole in /home/chris/anaconda3/envs/lyft/lib/python3.9/site-packages (from jupyter->nuscenes-devkit) (5.4.1)\n",
      "Requirement already satisfied: ipykernel in /home/chris/anaconda3/envs/lyft/lib/python3.9/site-packages (from jupyter->nuscenes-devkit) (6.15.0)\n",
      "Requirement already satisfied: threadpoolctl>=2.0.0 in /home/chris/anaconda3/envs/lyft/lib/python3.9/site-packages (from scikit-learn->nuscenes-devkit) (3.1.0)\n",
      "Requirement already satisfied: joblib>=1.1.1 in /home/chris/anaconda3/envs/lyft/lib/python3.9/site-packages (from scikit-learn->nuscenes-devkit) (1.2.0)\n",
      "Requirement already satisfied: nest-asyncio in /home/chris/anaconda3/envs/lyft/lib/python3.9/site-packages (from ipykernel->jupyter->nuscenes-devkit) (1.5.6)\n",
      "Requirement already satisfied: pyzmq>=17 in /home/chris/anaconda3/envs/lyft/lib/python3.9/site-packages (from ipykernel->jupyter->nuscenes-devkit) (25.0.2)\n",
      "Requirement already satisfied: tornado>=6.1 in /home/chris/anaconda3/envs/lyft/lib/python3.9/site-packages (from ipykernel->jupyter->nuscenes-devkit) (6.2)\n",
      "Requirement already satisfied: traitlets>=5.1.0 in /home/chris/anaconda3/envs/lyft/lib/python3.9/site-packages (from ipykernel->jupyter->nuscenes-devkit) (5.9.0)\n",
      "Requirement already satisfied: ipython>=7.23.1 in /home/chris/anaconda3/envs/lyft/lib/python3.9/site-packages (from ipykernel->jupyter->nuscenes-devkit) (8.12.0)\n",
      "Requirement already satisfied: psutil in /home/chris/anaconda3/envs/lyft/lib/python3.9/site-packages (from ipykernel->jupyter->nuscenes-devkit) (5.9.0)\n",
      "Requirement already satisfied: matplotlib-inline>=0.1 in /home/chris/anaconda3/envs/lyft/lib/python3.9/site-packages (from ipykernel->jupyter->nuscenes-devkit) (0.1.6)\n",
      "Requirement already satisfied: jupyter-client>=6.1.12 in /home/chris/anaconda3/envs/lyft/lib/python3.9/site-packages (from ipykernel->jupyter->nuscenes-devkit) (8.1.0)\n",
      "Requirement already satisfied: debugpy>=1.0 in /home/chris/anaconda3/envs/lyft/lib/python3.9/site-packages (from ipykernel->jupyter->nuscenes-devkit) (1.5.1)\n",
      "Requirement already satisfied: widgetsnbextension~=4.0.7 in /home/chris/anaconda3/envs/lyft/lib/python3.9/site-packages (from ipywidgets->jupyter->nuscenes-devkit) (4.0.7)\n",
      "Requirement already satisfied: jupyterlab-widgets~=3.0.7 in /home/chris/anaconda3/envs/lyft/lib/python3.9/site-packages (from ipywidgets->jupyter->nuscenes-devkit) (3.0.7)\n",
      "Requirement already satisfied: pygments in /home/chris/anaconda3/envs/lyft/lib/python3.9/site-packages (from jupyter-console->jupyter->nuscenes-devkit) (2.14.0)\n",
      "Requirement already satisfied: prompt-toolkit>=3.0.30 in /home/chris/anaconda3/envs/lyft/lib/python3.9/site-packages (from jupyter-console->jupyter->nuscenes-devkit) (3.0.38)\n",
      "Requirement already satisfied: jupyter-core!=5.0.*,>=4.12 in /home/chris/anaconda3/envs/lyft/lib/python3.9/site-packages (from jupyter-console->jupyter->nuscenes-devkit) (5.3.0)\n",
      "Requirement already satisfied: nbclient>=0.5.0 in /home/chris/anaconda3/envs/lyft/lib/python3.9/site-packages (from nbconvert->jupyter->nuscenes-devkit) (0.7.2)\n",
      "Requirement already satisfied: importlib-metadata>=3.6 in /home/chris/anaconda3/envs/lyft/lib/python3.9/site-packages (from nbconvert->jupyter->nuscenes-devkit) (6.1.0)\n",
      "Requirement already satisfied: bleach in /home/chris/anaconda3/envs/lyft/lib/python3.9/site-packages (from nbconvert->jupyter->nuscenes-devkit) (6.0.0)\n",
      "Requirement already satisfied: markupsafe>=2.0 in /home/chris/anaconda3/envs/lyft/lib/python3.9/site-packages (from nbconvert->jupyter->nuscenes-devkit) (2.1.2)\n",
      "Requirement already satisfied: tinycss2 in /home/chris/anaconda3/envs/lyft/lib/python3.9/site-packages (from nbconvert->jupyter->nuscenes-devkit) (1.2.1)\n",
      "Requirement already satisfied: jupyterlab-pygments in /home/chris/anaconda3/envs/lyft/lib/python3.9/site-packages (from nbconvert->jupyter->nuscenes-devkit) (0.2.2)\n",
      "Requirement already satisfied: defusedxml in /home/chris/anaconda3/envs/lyft/lib/python3.9/site-packages (from nbconvert->jupyter->nuscenes-devkit) (0.7.1)\n",
      "Requirement already satisfied: nbformat>=5.1 in /home/chris/anaconda3/envs/lyft/lib/python3.9/site-packages (from nbconvert->jupyter->nuscenes-devkit) (5.8.0)\n",
      "Requirement already satisfied: beautifulsoup4 in /home/chris/anaconda3/envs/lyft/lib/python3.9/site-packages (from nbconvert->jupyter->nuscenes-devkit) (4.12.0)\n",
      "Requirement already satisfied: mistune<3,>=2.0.3 in /home/chris/anaconda3/envs/lyft/lib/python3.9/site-packages (from nbconvert->jupyter->nuscenes-devkit) (2.0.5)\n",
      "Requirement already satisfied: jinja2>=3.0 in /home/chris/anaconda3/envs/lyft/lib/python3.9/site-packages (from nbconvert->jupyter->nuscenes-devkit) (3.1.2)\n",
      "Requirement already satisfied: pandocfilters>=1.4.1 in /home/chris/anaconda3/envs/lyft/lib/python3.9/site-packages (from nbconvert->jupyter->nuscenes-devkit) (1.5.0)\n",
      "Requirement already satisfied: nbclassic>=0.4.7 in /home/chris/anaconda3/envs/lyft/lib/python3.9/site-packages (from notebook->jupyter->nuscenes-devkit) (0.5.4)\n",
      "Requirement already satisfied: prometheus-client in /home/chris/anaconda3/envs/lyft/lib/python3.9/site-packages (from notebook->jupyter->nuscenes-devkit) (0.16.0)\n",
      "Requirement already satisfied: Send2Trash>=1.8.0 in /home/chris/anaconda3/envs/lyft/lib/python3.9/site-packages (from notebook->jupyter->nuscenes-devkit) (1.8.0)\n",
      "Requirement already satisfied: ipython-genutils in /home/chris/anaconda3/envs/lyft/lib/python3.9/site-packages (from notebook->jupyter->nuscenes-devkit) (0.2.0)\n",
      "Requirement already satisfied: terminado>=0.8.3 in /home/chris/anaconda3/envs/lyft/lib/python3.9/site-packages (from notebook->jupyter->nuscenes-devkit) (0.17.1)\n",
      "Requirement already satisfied: argon2-cffi in /home/chris/anaconda3/envs/lyft/lib/python3.9/site-packages (from notebook->jupyter->nuscenes-devkit) (21.3.0)\n",
      "Requirement already satisfied: qtpy>=2.0.1 in /home/chris/anaconda3/envs/lyft/lib/python3.9/site-packages (from qtconsole->jupyter->nuscenes-devkit) (2.3.1)\n",
      "Requirement already satisfied: zipp>=0.5 in /home/chris/anaconda3/envs/lyft/lib/python3.9/site-packages (from importlib-metadata>=3.6->nbconvert->jupyter->nuscenes-devkit) (3.15.0)\n",
      "Requirement already satisfied: pickleshare in /home/chris/anaconda3/envs/lyft/lib/python3.9/site-packages (from ipython>=7.23.1->ipykernel->jupyter->nuscenes-devkit) (0.7.5)\n",
      "Requirement already satisfied: jedi>=0.16 in /home/chris/anaconda3/envs/lyft/lib/python3.9/site-packages (from ipython>=7.23.1->ipykernel->jupyter->nuscenes-devkit) (0.18.2)\n",
      "Requirement already satisfied: backcall in /home/chris/anaconda3/envs/lyft/lib/python3.9/site-packages (from ipython>=7.23.1->ipykernel->jupyter->nuscenes-devkit) (0.2.0)\n",
      "Requirement already satisfied: stack-data in /home/chris/anaconda3/envs/lyft/lib/python3.9/site-packages (from ipython>=7.23.1->ipykernel->jupyter->nuscenes-devkit) (0.6.2)\n",
      "Requirement already satisfied: decorator in /home/chris/anaconda3/envs/lyft/lib/python3.9/site-packages (from ipython>=7.23.1->ipykernel->jupyter->nuscenes-devkit) (5.1.1)\n",
      "Requirement already satisfied: pexpect>4.3 in /home/chris/anaconda3/envs/lyft/lib/python3.9/site-packages (from ipython>=7.23.1->ipykernel->jupyter->nuscenes-devkit) (4.8.0)\n",
      "Requirement already satisfied: typing-extensions in /home/chris/anaconda3/envs/lyft/lib/python3.9/site-packages (from ipython>=7.23.1->ipykernel->jupyter->nuscenes-devkit) (4.5.0)\n",
      "Requirement already satisfied: platformdirs>=2.5 in /home/chris/anaconda3/envs/lyft/lib/python3.9/site-packages (from jupyter-core!=5.0.*,>=4.12->jupyter-console->jupyter->nuscenes-devkit) (3.2.0)\n",
      "Requirement already satisfied: jupyter-server>=1.8 in /home/chris/anaconda3/envs/lyft/lib/python3.9/site-packages (from nbclassic>=0.4.7->notebook->jupyter->nuscenes-devkit) (2.5.0)\n",
      "Requirement already satisfied: notebook-shim>=0.1.0 in /home/chris/anaconda3/envs/lyft/lib/python3.9/site-packages (from nbclassic>=0.4.7->notebook->jupyter->nuscenes-devkit) (0.2.2)\n",
      "Requirement already satisfied: jsonschema>=2.6 in /home/chris/anaconda3/envs/lyft/lib/python3.9/site-packages (from nbformat>=5.1->nbconvert->jupyter->nuscenes-devkit) (4.17.3)\n",
      "Requirement already satisfied: fastjsonschema in /home/chris/anaconda3/envs/lyft/lib/python3.9/site-packages (from nbformat>=5.1->nbconvert->jupyter->nuscenes-devkit) (2.16.3)\n",
      "Requirement already satisfied: wcwidth in /home/chris/anaconda3/envs/lyft/lib/python3.9/site-packages (from prompt-toolkit>=3.0.30->jupyter-console->jupyter->nuscenes-devkit) (0.2.6)\n",
      "Requirement already satisfied: ptyprocess in /home/chris/anaconda3/envs/lyft/lib/python3.9/site-packages (from terminado>=0.8.3->notebook->jupyter->nuscenes-devkit) (0.7.0)\n",
      "Requirement already satisfied: argon2-cffi-bindings in /home/chris/anaconda3/envs/lyft/lib/python3.9/site-packages (from argon2-cffi->notebook->jupyter->nuscenes-devkit) (21.2.0)\n",
      "Requirement already satisfied: soupsieve>1.2 in /home/chris/anaconda3/envs/lyft/lib/python3.9/site-packages (from beautifulsoup4->nbconvert->jupyter->nuscenes-devkit) (2.4)\n",
      "Requirement already satisfied: webencodings in /home/chris/anaconda3/envs/lyft/lib/python3.9/site-packages (from bleach->nbconvert->jupyter->nuscenes-devkit) (0.5.1)\n",
      "Requirement already satisfied: parso<0.9.0,>=0.8.0 in /home/chris/anaconda3/envs/lyft/lib/python3.9/site-packages (from jedi>=0.16->ipython>=7.23.1->ipykernel->jupyter->nuscenes-devkit) (0.8.3)\n",
      "Requirement already satisfied: pyrsistent!=0.17.0,!=0.17.1,!=0.17.2,>=0.14.0 in /home/chris/anaconda3/envs/lyft/lib/python3.9/site-packages (from jsonschema>=2.6->nbformat>=5.1->nbconvert->jupyter->nuscenes-devkit) (0.19.3)\n",
      "Requirement already satisfied: attrs>=17.4.0 in /home/chris/anaconda3/envs/lyft/lib/python3.9/site-packages (from jsonschema>=2.6->nbformat>=5.1->nbconvert->jupyter->nuscenes-devkit) (22.2.0)\n",
      "Requirement already satisfied: jupyter-server-terminals in /home/chris/anaconda3/envs/lyft/lib/python3.9/site-packages (from jupyter-server>=1.8->nbclassic>=0.4.7->notebook->jupyter->nuscenes-devkit) (0.4.4)\n",
      "Requirement already satisfied: jupyter-events>=0.4.0 in /home/chris/anaconda3/envs/lyft/lib/python3.9/site-packages (from jupyter-server>=1.8->nbclassic>=0.4.7->notebook->jupyter->nuscenes-devkit) (0.6.3)\n",
      "Requirement already satisfied: websocket-client in /home/chris/anaconda3/envs/lyft/lib/python3.9/site-packages (from jupyter-server>=1.8->nbclassic>=0.4.7->notebook->jupyter->nuscenes-devkit) (1.5.1)\n",
      "Requirement already satisfied: anyio>=3.1.0 in /home/chris/anaconda3/envs/lyft/lib/python3.9/site-packages (from jupyter-server>=1.8->nbclassic>=0.4.7->notebook->jupyter->nuscenes-devkit) (3.6.2)\n",
      "Requirement already satisfied: cffi>=1.0.1 in /home/chris/anaconda3/envs/lyft/lib/python3.9/site-packages (from argon2-cffi-bindings->argon2-cffi->notebook->jupyter->nuscenes-devkit) (1.15.1)\n",
      "Requirement already satisfied: asttokens>=2.1.0 in /home/chris/anaconda3/envs/lyft/lib/python3.9/site-packages (from stack-data->ipython>=7.23.1->ipykernel->jupyter->nuscenes-devkit) (2.2.1)\n",
      "Requirement already satisfied: executing>=1.2.0 in /home/chris/anaconda3/envs/lyft/lib/python3.9/site-packages (from stack-data->ipython>=7.23.1->ipykernel->jupyter->nuscenes-devkit) (1.2.0)\n",
      "Requirement already satisfied: pure-eval in /home/chris/anaconda3/envs/lyft/lib/python3.9/site-packages (from stack-data->ipython>=7.23.1->ipykernel->jupyter->nuscenes-devkit) (0.2.2)\n",
      "Requirement already satisfied: sniffio>=1.1 in /home/chris/anaconda3/envs/lyft/lib/python3.9/site-packages (from anyio>=3.1.0->jupyter-server>=1.8->nbclassic>=0.4.7->notebook->jupyter->nuscenes-devkit) (1.3.0)\n",
      "Requirement already satisfied: idna>=2.8 in /home/chris/anaconda3/envs/lyft/lib/python3.9/site-packages (from anyio>=3.1.0->jupyter-server>=1.8->nbclassic>=0.4.7->notebook->jupyter->nuscenes-devkit) (3.4)\n",
      "Requirement already satisfied: pycparser in /home/chris/anaconda3/envs/lyft/lib/python3.9/site-packages (from cffi>=1.0.1->argon2-cffi-bindings->argon2-cffi->notebook->jupyter->nuscenes-devkit) (2.21)\n",
      "Requirement already satisfied: rfc3986-validator>=0.1.1 in /home/chris/anaconda3/envs/lyft/lib/python3.9/site-packages (from jupyter-events>=0.4.0->jupyter-server>=1.8->nbclassic>=0.4.7->notebook->jupyter->nuscenes-devkit) (0.1.1)\n",
      "Requirement already satisfied: pyyaml>=5.3 in /home/chris/anaconda3/envs/lyft/lib/python3.9/site-packages (from jupyter-events>=0.4.0->jupyter-server>=1.8->nbclassic>=0.4.7->notebook->jupyter->nuscenes-devkit) (6.0)\n",
      "Requirement already satisfied: rfc3339-validator in /home/chris/anaconda3/envs/lyft/lib/python3.9/site-packages (from jupyter-events>=0.4.0->jupyter-server>=1.8->nbclassic>=0.4.7->notebook->jupyter->nuscenes-devkit) (0.1.4)\n",
      "Requirement already satisfied: python-json-logger>=2.0.4 in /home/chris/anaconda3/envs/lyft/lib/python3.9/site-packages (from jupyter-events>=0.4.0->jupyter-server>=1.8->nbclassic>=0.4.7->notebook->jupyter->nuscenes-devkit) (2.0.7)\n",
      "Requirement already satisfied: isoduration in /home/chris/anaconda3/envs/lyft/lib/python3.9/site-packages (from jsonschema>=2.6->nbformat>=5.1->nbconvert->jupyter->nuscenes-devkit) (20.11.0)\n",
      "Requirement already satisfied: uri-template in /home/chris/anaconda3/envs/lyft/lib/python3.9/site-packages (from jsonschema>=2.6->nbformat>=5.1->nbconvert->jupyter->nuscenes-devkit) (1.2.0)\n",
      "Requirement already satisfied: fqdn in /home/chris/anaconda3/envs/lyft/lib/python3.9/site-packages (from jsonschema>=2.6->nbformat>=5.1->nbconvert->jupyter->nuscenes-devkit) (1.5.1)\n",
      "Requirement already satisfied: webcolors>=1.11 in /home/chris/anaconda3/envs/lyft/lib/python3.9/site-packages (from jsonschema>=2.6->nbformat>=5.1->nbconvert->jupyter->nuscenes-devkit) (1.13)\n",
      "Requirement already satisfied: jsonpointer>1.13 in /home/chris/anaconda3/envs/lyft/lib/python3.9/site-packages (from jsonschema>=2.6->nbformat>=5.1->nbconvert->jupyter->nuscenes-devkit) (2.3)\n",
      "Requirement already satisfied: arrow>=0.15.0 in /home/chris/anaconda3/envs/lyft/lib/python3.9/site-packages (from isoduration->jsonschema>=2.6->nbformat>=5.1->nbconvert->jupyter->nuscenes-devkit) (1.2.3)\n"
     ]
    }
   ],
   "source": [
    "!pip install nuscenes-devkit"
   ]
  },
  {
   "cell_type": "code",
   "execution_count": 1,
   "metadata": {},
   "outputs": [],
   "source": [
    "from pathlib import Path\n",
    "from PIL import Image"
   ]
  },
  {
   "cell_type": "code",
   "execution_count": 2,
   "metadata": {},
   "outputs": [
    {
     "name": "stdout",
     "output_type": "stream",
     "text": [
      "/media/chris/Workspace/Dataset/3d-object-detection-for-autonomous-vehicles\n"
     ]
    }
   ],
   "source": [
    "# dir with all input data from Kaggle\n",
    "INP_DIR = Path('/media/chris/Workspace/Dataset/3d-object-detection-for-autonomous-vehicles')\n",
    "print(INP_DIR)"
   ]
  },
  {
   "cell_type": "code",
   "execution_count": 3,
   "metadata": {},
   "outputs": [],
   "source": [
    "# dir with index json tables (scenes, categories, logs, etc...)\n",
    "TABLES_DIR = INP_DIR.joinpath('train_data')"
   ]
  },
  {
   "cell_type": "code",
   "execution_count": 4,
   "metadata": {},
   "outputs": [
    {
     "name": "stdout",
     "output_type": "stream",
     "text": [
      "ln: failed to create symbolic link 'images/train_images': File exists\n",
      "ln: failed to create symbolic link 'maps/train_maps': File exists\n",
      "ln: failed to create symbolic link 'lidar/train_lidar': File exists\n"
     ]
    }
   ],
   "source": [
    "# Adjust the dataroot parameter below to point to your local dataset path.\n",
    "# The correct dataset path contains at least the following four folders (or similar): images, lidar, maps\n",
    "!ln -s {INP_DIR}/train_images images\n",
    "!ln -s {INP_DIR}/train_maps maps\n",
    "!ln -s {INP_DIR}/train_lidar lidar"
   ]
  },
  {
   "cell_type": "code",
   "execution_count": 5,
   "metadata": {
    "_cell_guid": "79c7e3d0-c299-4dcb-8224-4455121ee9b0",
    "_uuid": "d629ff2d2480ee46fbb7e2d37f6b5fab8052498a"
   },
   "outputs": [],
   "source": [
    "DATA_DIR = Path().absolute() \n",
    "# Empty init equals '.'.\n",
    "# We use this because we link train dirs to current dir (cell above)"
   ]
  },
  {
   "cell_type": "code",
   "execution_count": 6,
   "metadata": {},
   "outputs": [],
   "source": [
    "# dir to write KITTY-style dataset\n",
    "STORE_DIR = DATA_DIR.joinpath('kitti_format')"
   ]
  },
  {
   "cell_type": "code",
   "execution_count": 8,
   "metadata": {},
   "outputs": [
    {
     "name": "stdout",
     "output_type": "stream",
     "text": [
      "Collecting git+https://github.com/lyft/nuscenes-devkit\n",
      "  Cloning https://github.com/lyft/nuscenes-devkit to /tmp/pip-req-build-n_nnin22\n",
      "  Running command git clone --filter=blob:none --quiet https://github.com/lyft/nuscenes-devkit /tmp/pip-req-build-n_nnin22\n",
      "  Resolved https://github.com/lyft/nuscenes-devkit to commit 49c36da0a85da6bc9e8f2a39d5d967311cd75069\n",
      "  Installing build dependencies ... \u001b[?25ldone\n",
      "\u001b[?25h  Getting requirements to build wheel ... \u001b[?25ldone\n",
      "\u001b[?25h  Preparing metadata (pyproject.toml) ... \u001b[?25ldone\n",
      "\u001b[?25hRequirement already satisfied: Pillow>=5.2.0 in /home/chris/anaconda3/envs/lyft/lib/python3.9/site-packages (from lyft-dataset-sdk==0.0.10) (9.5.0)\n",
      "Requirement already satisfied: plotly in /home/chris/anaconda3/envs/lyft/lib/python3.9/site-packages (from lyft-dataset-sdk==0.0.10) (5.14.0)\n",
      "Requirement already satisfied: scikit-learn>=0.19.2 in /home/chris/anaconda3/envs/lyft/lib/python3.9/site-packages (from lyft-dataset-sdk==0.0.10) (1.2.2)\n",
      "Requirement already satisfied: flake8 in /home/chris/anaconda3/envs/lyft/lib/python3.9/site-packages (from lyft-dataset-sdk==0.0.10) (6.0.0)\n",
      "Requirement already satisfied: scipy>=1.1.0 in /home/chris/anaconda3/envs/lyft/lib/python3.9/site-packages (from lyft-dataset-sdk==0.0.10) (1.10.1)\n",
      "Requirement already satisfied: pandas in /home/chris/anaconda3/envs/lyft/lib/python3.9/site-packages (from lyft-dataset-sdk==0.0.10) (1.5.3)\n",
      "Requirement already satisfied: tqdm>=4.25.0 in /home/chris/anaconda3/envs/lyft/lib/python3.9/site-packages (from lyft-dataset-sdk==0.0.10) (4.65.0)\n",
      "Requirement already satisfied: fire in /home/chris/anaconda3/envs/lyft/lib/python3.9/site-packages (from lyft-dataset-sdk==0.0.10) (0.5.0)\n",
      "Requirement already satisfied: pytest in /home/chris/anaconda3/envs/lyft/lib/python3.9/site-packages (from lyft-dataset-sdk==0.0.10) (7.2.2)\n",
      "Requirement already satisfied: opencv-python>=3.4.2.17 in /home/chris/anaconda3/envs/lyft/lib/python3.9/site-packages (from lyft-dataset-sdk==0.0.10) (4.7.0.72)\n",
      "Requirement already satisfied: black in /home/chris/anaconda3/envs/lyft/lib/python3.9/site-packages (from lyft-dataset-sdk==0.0.10) (23.3.0)\n",
      "Requirement already satisfied: matplotlib in /home/chris/anaconda3/envs/lyft/lib/python3.9/site-packages (from lyft-dataset-sdk==0.0.10) (3.5.2)\n",
      "Requirement already satisfied: pyquaternion>=0.9.5 in /home/chris/anaconda3/envs/lyft/lib/python3.9/site-packages (from lyft-dataset-sdk==0.0.10) (0.9.9)\n",
      "Requirement already satisfied: Shapely>=1.6.4.post2 in /home/chris/anaconda3/envs/lyft/lib/python3.9/site-packages (from lyft-dataset-sdk==0.0.10) (1.8.5)\n",
      "Requirement already satisfied: numpy>=1.14.5 in /home/chris/anaconda3/envs/lyft/lib/python3.9/site-packages (from lyft-dataset-sdk==0.0.10) (1.24.2)\n",
      "Requirement already satisfied: cachetools>=3.1.0 in /home/chris/anaconda3/envs/lyft/lib/python3.9/site-packages (from lyft-dataset-sdk==0.0.10) (5.3.0)\n",
      "Requirement already satisfied: threadpoolctl>=2.0.0 in /home/chris/anaconda3/envs/lyft/lib/python3.9/site-packages (from scikit-learn>=0.19.2->lyft-dataset-sdk==0.0.10) (3.1.0)\n",
      "Requirement already satisfied: joblib>=1.1.1 in /home/chris/anaconda3/envs/lyft/lib/python3.9/site-packages (from scikit-learn>=0.19.2->lyft-dataset-sdk==0.0.10) (1.2.0)\n",
      "Requirement already satisfied: platformdirs>=2 in /home/chris/anaconda3/envs/lyft/lib/python3.9/site-packages (from black->lyft-dataset-sdk==0.0.10) (3.2.0)\n",
      "Requirement already satisfied: typing-extensions>=3.10.0.0 in /home/chris/anaconda3/envs/lyft/lib/python3.9/site-packages (from black->lyft-dataset-sdk==0.0.10) (4.5.0)\n",
      "Requirement already satisfied: click>=8.0.0 in /home/chris/anaconda3/envs/lyft/lib/python3.9/site-packages (from black->lyft-dataset-sdk==0.0.10) (8.1.3)\n",
      "Requirement already satisfied: mypy-extensions>=0.4.3 in /home/chris/anaconda3/envs/lyft/lib/python3.9/site-packages (from black->lyft-dataset-sdk==0.0.10) (1.0.0)\n",
      "Requirement already satisfied: pathspec>=0.9.0 in /home/chris/anaconda3/envs/lyft/lib/python3.9/site-packages (from black->lyft-dataset-sdk==0.0.10) (0.11.1)\n",
      "Requirement already satisfied: packaging>=22.0 in /home/chris/anaconda3/envs/lyft/lib/python3.9/site-packages (from black->lyft-dataset-sdk==0.0.10) (23.0)\n",
      "Requirement already satisfied: tomli>=1.1.0 in /home/chris/anaconda3/envs/lyft/lib/python3.9/site-packages (from black->lyft-dataset-sdk==0.0.10) (2.0.1)\n",
      "Requirement already satisfied: termcolor in /home/chris/anaconda3/envs/lyft/lib/python3.9/site-packages (from fire->lyft-dataset-sdk==0.0.10) (2.2.0)\n",
      "Requirement already satisfied: six in /home/chris/anaconda3/envs/lyft/lib/python3.9/site-packages (from fire->lyft-dataset-sdk==0.0.10) (1.16.0)\n",
      "Requirement already satisfied: pycodestyle<2.11.0,>=2.10.0 in /home/chris/anaconda3/envs/lyft/lib/python3.9/site-packages (from flake8->lyft-dataset-sdk==0.0.10) (2.10.0)\n",
      "Requirement already satisfied: mccabe<0.8.0,>=0.7.0 in /home/chris/anaconda3/envs/lyft/lib/python3.9/site-packages (from flake8->lyft-dataset-sdk==0.0.10) (0.7.0)\n",
      "Requirement already satisfied: pyflakes<3.1.0,>=3.0.0 in /home/chris/anaconda3/envs/lyft/lib/python3.9/site-packages (from flake8->lyft-dataset-sdk==0.0.10) (3.0.1)\n",
      "Requirement already satisfied: pyparsing>=2.2.1 in /home/chris/anaconda3/envs/lyft/lib/python3.9/site-packages (from matplotlib->lyft-dataset-sdk==0.0.10) (3.0.9)\n",
      "Requirement already satisfied: fonttools>=4.22.0 in /home/chris/anaconda3/envs/lyft/lib/python3.9/site-packages (from matplotlib->lyft-dataset-sdk==0.0.10) (4.39.3)\n",
      "Requirement already satisfied: python-dateutil>=2.7 in /home/chris/anaconda3/envs/lyft/lib/python3.9/site-packages (from matplotlib->lyft-dataset-sdk==0.0.10) (2.8.2)\n",
      "Requirement already satisfied: kiwisolver>=1.0.1 in /home/chris/anaconda3/envs/lyft/lib/python3.9/site-packages (from matplotlib->lyft-dataset-sdk==0.0.10) (1.4.4)\n",
      "Requirement already satisfied: cycler>=0.10 in /home/chris/anaconda3/envs/lyft/lib/python3.9/site-packages (from matplotlib->lyft-dataset-sdk==0.0.10) (0.11.0)\n",
      "Requirement already satisfied: pytz>=2020.1 in /home/chris/anaconda3/envs/lyft/lib/python3.9/site-packages (from pandas->lyft-dataset-sdk==0.0.10) (2023.3)\n",
      "Requirement already satisfied: tenacity>=6.2.0 in /home/chris/anaconda3/envs/lyft/lib/python3.9/site-packages (from plotly->lyft-dataset-sdk==0.0.10) (8.2.2)\n",
      "Requirement already satisfied: attrs>=19.2.0 in /home/chris/anaconda3/envs/lyft/lib/python3.9/site-packages (from pytest->lyft-dataset-sdk==0.0.10) (22.2.0)\n",
      "Requirement already satisfied: exceptiongroup>=1.0.0rc8 in /home/chris/anaconda3/envs/lyft/lib/python3.9/site-packages (from pytest->lyft-dataset-sdk==0.0.10) (1.1.1)\n",
      "Requirement already satisfied: iniconfig in /home/chris/anaconda3/envs/lyft/lib/python3.9/site-packages (from pytest->lyft-dataset-sdk==0.0.10) (2.0.0)\n",
      "Requirement already satisfied: pluggy<2.0,>=0.12 in /home/chris/anaconda3/envs/lyft/lib/python3.9/site-packages (from pytest->lyft-dataset-sdk==0.0.10) (1.0.0)\n"
     ]
    }
   ],
   "source": [
    "!pip install -U git+https://github.com/lyft/nuscenes-devkit"
   ]
  },
  {
   "cell_type": "code",
   "execution_count": 7,
   "metadata": {},
   "outputs": [],
   "source": [
    "import lyft_dataset_sdk\n",
    "import lyft_dataset_sdk.utils.export_kitti"
   ]
  },
  {
   "cell_type": "code",
   "execution_count": 8,
   "metadata": {},
   "outputs": [
    {
     "name": "stdout",
     "output_type": "stream",
     "text": [
      "INFO: Showing help with the command 'export_kitti.py nuscenes_gt_to_kitti -- --help'.\n",
      "\n",
      "\u001b[1mNAME\u001b[0m\n",
      "    export_kitti.py nuscenes_gt_to_kitti - Converts nuScenes GT formatted annotations to KITTI format.\n",
      "\n",
      "\u001b[1mSYNOPSIS\u001b[0m\n",
      "    export_kitti.py nuscenes_gt_to_kitti \u001b[4mLYFT_DATAROOT\u001b[0m \u001b[4mTABLE_FOLDER\u001b[0m <flags>\n",
      "\n",
      "\u001b[1mDESCRIPTION\u001b[0m\n",
      "    Converts nuScenes GT formatted annotations to KITTI format.\n",
      "\n",
      "\u001b[1mPOSITIONAL ARGUMENTS\u001b[0m\n",
      "    \u001b[1m\u001b[4mLYFT_DATAROOT\u001b[0m\u001b[0m\n",
      "        Type: str\n",
      "        folder with tables (json files).\n",
      "    \u001b[1m\u001b[4mTABLE_FOLDER\u001b[0m\u001b[0m\n",
      "        Type: str\n",
      "        folder with tables (json files).\n",
      "\n",
      "\u001b[1mFLAGS\u001b[0m\n",
      "    -l, --lidar_name=\u001b[4mLIDAR_NAME\u001b[0m\n",
      "        Type: str\n",
      "        Default: 'LIDAR_TOP'\n",
      "        Name of the lidar sensor. Only one lidar allowed at this moment.\n",
      "    -g, --get_all_detections=\u001b[4mGET_ALL_DETECTIONS\u001b[0m\n",
      "        Type: bool\n",
      "        Default: False\n",
      "        If True, will write all bboxes in PointCloud and use only FrontCamera.\n",
      "    -p, --parallel_n_jobs=\u001b[4mPARALLEL_N_JOBS\u001b[0m\n",
      "        Type: int\n",
      "        Default: 4\n",
      "        Number of threads to parralel processing.\n",
      "    -s, --samples_count=\u001b[4mSAMPLES_COUNT\u001b[0m\n",
      "        Type: Optional[typing.Optional[int]]\n",
      "        Default: None\n",
      "        Number of samples to convert.\n",
      "\n",
      "\u001b[1mNOTES\u001b[0m\n",
      "    You can also use flags syntax for POSITIONAL ARGUMENTS\n"
     ]
    }
   ],
   "source": [
    "!python -m lyft_dataset_sdk.utils.export_kitti nuscenes_gt_to_kitti -h"
   ]
  },
  {
   "cell_type": "code",
   "execution_count": 9,
   "metadata": {},
   "outputs": [
    {
     "name": "stdout",
     "output_type": "stream",
     "text": [
      "9 category,\n",
      "18 attribute,\n",
      "4 visibility,\n",
      "18421 instance,\n",
      "10 sensor,\n",
      "148 calibrated_sensor,\n",
      "177789 ego_pose,\n",
      "180 log,\n",
      "180 scene,\n",
      "22680 sample,\n",
      "189504 sample_data,\n",
      "638179 sample_annotation,\n",
      "1 map,\n",
      "Done loading in 6.3 seconds.\n",
      "======\n",
      "Reverse indexing ...\n",
      "Done reverse indexing in 1.9 seconds.\n",
      "======\n",
      " 73%|████████████████████████████▍          | 5460/7480 [11:08<05:32,  6.07it/s]Traceback (most recent call last):\n",
      "  File \"/home/chris/anaconda3/envs/perception/lib/python3.9/runpy.py\", line 197, in _run_module_as_main\n",
      "    return _run_code(code, main_globals, None,\n",
      "  File \"/home/chris/anaconda3/envs/perception/lib/python3.9/runpy.py\", line 87, in _run_code\n",
      "    exec(code, run_globals)\n",
      "  File \"/home/chris/anaconda3/envs/perception/lib/python3.9/site-packages/lyft_dataset_sdk/utils/export_kitti.py\", line 337, in <module>\n",
      "    fire.Fire(KittiConverter)\n",
      "  File \"/home/chris/anaconda3/envs/perception/lib/python3.9/site-packages/fire/core.py\", line 141, in Fire\n",
      "    component_trace = _Fire(component, args, parsed_flag_args, context, name)\n",
      "  File \"/home/chris/anaconda3/envs/perception/lib/python3.9/site-packages/fire/core.py\", line 475, in _Fire\n",
      "    component, remaining_args = _CallAndUpdateTrace(\n",
      "  File \"/home/chris/anaconda3/envs/perception/lib/python3.9/site-packages/fire/core.py\", line 691, in _CallAndUpdateTrace\n",
      "    component = fn(*varargs, **kwargs)\n",
      "  File \"/home/chris/anaconda3/envs/perception/lib/python3.9/site-packages/lyft_dataset_sdk/utils/export_kitti.py\", line 120, in nuscenes_gt_to_kitti\n",
      "    Parallel()(delayed(self.process_token_to_kitti)(sample_token) for sample_token in tqdm(sample_tokens))\n",
      "  File \"/home/chris/anaconda3/envs/perception/lib/python3.9/site-packages/joblib/parallel.py\", line 1098, in __call__\n",
      "    self.retrieve()\n",
      "  File \"/home/chris/anaconda3/envs/perception/lib/python3.9/site-packages/joblib/parallel.py\", line 975, in retrieve\n",
      "    self._output.extend(job.get(timeout=self.timeout))\n",
      "  File \"/home/chris/anaconda3/envs/perception/lib/python3.9/multiprocessing/pool.py\", line 771, in get\n",
      "    raise self._value\n",
      "  File \"/home/chris/anaconda3/envs/perception/lib/python3.9/multiprocessing/pool.py\", line 125, in worker\n",
      "    result = (True, func(*args, **kwds))\n",
      "  File \"/home/chris/anaconda3/envs/perception/lib/python3.9/site-packages/joblib/_parallel_backends.py\", line 620, in __call__\n",
      "    return self.func(*args, **kwargs)\n",
      "  File \"/home/chris/anaconda3/envs/perception/lib/python3.9/site-packages/joblib/parallel.py\", line 288, in __call__\n",
      "    return [func(*args, **kwargs)\n",
      "  File \"/home/chris/anaconda3/envs/perception/lib/python3.9/site-packages/joblib/parallel.py\", line 288, in <listcomp>\n",
      "    return [func(*args, **kwargs)\n",
      "  File \"/home/chris/anaconda3/envs/perception/lib/python3.9/site-packages/lyft_dataset_sdk/utils/export_kitti.py\", line 202, in process_token_to_kitti\n",
      "    pcl = LidarPointCloud.from_file(Path(src_lid_path))\n",
      "  File \"/home/chris/anaconda3/envs/perception/lib/python3.9/site-packages/lyft_dataset_sdk/utils/data_classes.py\", line 283, in from_file\n",
      "    points = scan.reshape((-1, 5))[:, : cls.nbr_dims()]\n",
      "ValueError: cannot reshape array of size 265728 into shape (5)\n",
      " 73%|████████████████████████████▌          | 5479/7480 [11:09<04:04,  8.18it/s]\n"
     ]
    }
   ],
   "source": [
    "# convertation to KITTY-format\n",
    "# samples count: 22680是training全部\n",
    "# samples count: 7480是training部分\n",
    "# samples count: 7518是testing的部分\n",
    "!python -m lyft_dataset_sdk.utils.export_kitti nuscenes_gt_to_kitti \\\n",
    "        --lyft_dataroot {DATA_DIR} \\\n",
    "        --table_folder {TABLES_DIR} \\\n",
    "        --samples_count 7480 \\\n",
    "        --parallel_n_jobs 20 \\\n",
    "        --get_all_detections True \\\n",
    "        --store_dir {STORE_DIR}"
   ]
  },
  {
   "cell_type": "code",
   "execution_count": 12,
   "metadata": {},
   "outputs": [],
   "source": [
    "# check created (converted) files. velodyne = LiDAR poinclouds data (in binary) host-a011_cam0_1233090652702363606\n",
    "!ls {STORE_DIR}/velodyne | head -2"
   ]
  },
  {
   "cell_type": "code",
   "execution_count": 13,
   "metadata": {},
   "outputs": [
    {
     "name": "stdout",
     "output_type": "stream",
     "text": [
      "Rendering 3d boxes projected from 3d KITTI format\n",
      "0it [00:00, ?it/s]\n"
     ]
    }
   ],
   "source": [
    "# render converted data for check. Currently don't support multithreading :(\n",
    "!python -m lyft_dataset_sdk.utils.export_kitti render_kitti \\\n",
    "        --store_dir {STORE_DIR}"
   ]
  },
  {
   "cell_type": "code",
   "execution_count": 14,
   "metadata": {},
   "outputs": [],
   "source": [
    "# Script above write images to 'render' folder\n",
    "# in store_dir (where we have converted dataset)\n",
    "RENDER_DIR = STORE_DIR.joinpath('render')"
   ]
  },
  {
   "cell_type": "code",
   "execution_count": 15,
   "metadata": {},
   "outputs": [],
   "source": [
    "# get all rendered files\n",
    "all_renders = list(RENDER_DIR.glob('*'))\n",
    "all_renders.sort()"
   ]
  },
  {
   "cell_type": "code",
   "execution_count": 16,
   "metadata": {},
   "outputs": [],
   "source": [
    "# render radar data (bird view) and camera data with bboxes"
   ]
  },
  {
   "cell_type": "code",
   "execution_count": 17,
   "metadata": {},
   "outputs": [],
   "source": [
    "#Image.open(all_renders[0])"
   ]
  },
  {
   "cell_type": "code",
   "execution_count": 18,
   "metadata": {},
   "outputs": [],
   "source": [
    "#Image.open(all_renders[1])"
   ]
  },
  {
   "cell_type": "code",
   "execution_count": 19,
   "metadata": {},
   "outputs": [
    {
     "name": "stdout",
     "output_type": "stream",
     "text": [
      "calib  image_2\tlabel_2  render  velodyne\n"
     ]
    }
   ],
   "source": [
    "!ls ./kitti_format"
   ]
  },
  {
   "cell_type": "code",
   "execution_count": 20,
   "metadata": {},
   "outputs": [
    {
     "name": "stdout",
     "output_type": "stream",
     "text": [
      "cat: ./kitti_format/label_2/095d5bb88eb9cdd223b90d2a1475c0cf2f4b4c2a8aca82ba0ae51f6fba540440.txt: No such file or directory\n"
     ]
    }
   ],
   "source": [
    "!cat ./kitti_format/label_2/095d5bb88eb9cdd223b90d2a1475c0cf2f4b4c2a8aca82ba0ae51f6fba540440.txt"
   ]
  },
  {
   "cell_type": "code",
   "execution_count": 21,
   "metadata": {},
   "outputs": [],
   "source": [
    "!ls kitti_format/image_2/"
   ]
  },
  {
   "cell_type": "code",
   "execution_count": 22,
   "metadata": {},
   "outputs": [
    {
     "ename": "FileNotFoundError",
     "evalue": "No such file or directory: 'kitti_format/image_2/095d5bb88eb9cdd223b90d2a1475c0cf2f4b4c2a8aca82ba0ae51f6fba540440.png'",
     "output_type": "error",
     "traceback": [
      "\u001b[0;31m---------------------------------------------------------------------------\u001b[0m",
      "\u001b[0;31mTypeError\u001b[0m                                 Traceback (most recent call last)",
      "File \u001b[0;32m~/anaconda3/envs/lyft/lib/python3.9/site-packages/IPython/core/display.py:1045\u001b[0m, in \u001b[0;36mImage._data_and_metadata\u001b[0;34m(self, always_both)\u001b[0m\n\u001b[1;32m   1044\u001b[0m \u001b[39mtry\u001b[39;00m:\n\u001b[0;32m-> 1045\u001b[0m     b64_data \u001b[39m=\u001b[39m b2a_base64(\u001b[39mself\u001b[39;49m\u001b[39m.\u001b[39;49mdata, newline\u001b[39m=\u001b[39;49m\u001b[39mFalse\u001b[39;49;00m)\u001b[39m.\u001b[39mdecode(\u001b[39m\"\u001b[39m\u001b[39mascii\u001b[39m\u001b[39m\"\u001b[39m)\n\u001b[1;32m   1046\u001b[0m \u001b[39mexcept\u001b[39;00m \u001b[39mTypeError\u001b[39;00m \u001b[39mas\u001b[39;00m e:\n",
      "\u001b[0;31mTypeError\u001b[0m: a bytes-like object is required, not 'str'",
      "\nThe above exception was the direct cause of the following exception:\n",
      "\u001b[0;31mFileNotFoundError\u001b[0m                         Traceback (most recent call last)",
      "File \u001b[0;32m~/anaconda3/envs/lyft/lib/python3.9/site-packages/IPython/core/formatters.py:974\u001b[0m, in \u001b[0;36mMimeBundleFormatter.__call__\u001b[0;34m(self, obj, include, exclude)\u001b[0m\n\u001b[1;32m    971\u001b[0m     method \u001b[39m=\u001b[39m get_real_method(obj, \u001b[39mself\u001b[39m\u001b[39m.\u001b[39mprint_method)\n\u001b[1;32m    973\u001b[0m     \u001b[39mif\u001b[39;00m method \u001b[39mis\u001b[39;00m \u001b[39mnot\u001b[39;00m \u001b[39mNone\u001b[39;00m:\n\u001b[0;32m--> 974\u001b[0m         \u001b[39mreturn\u001b[39;00m method(include\u001b[39m=\u001b[39;49minclude, exclude\u001b[39m=\u001b[39;49mexclude)\n\u001b[1;32m    975\u001b[0m     \u001b[39mreturn\u001b[39;00m \u001b[39mNone\u001b[39;00m\n\u001b[1;32m    976\u001b[0m \u001b[39melse\u001b[39;00m:\n",
      "File \u001b[0;32m~/anaconda3/envs/lyft/lib/python3.9/site-packages/IPython/core/display.py:1035\u001b[0m, in \u001b[0;36mImage._repr_mimebundle_\u001b[0;34m(self, include, exclude)\u001b[0m\n\u001b[1;32m   1033\u001b[0m \u001b[39mif\u001b[39;00m \u001b[39mself\u001b[39m\u001b[39m.\u001b[39membed:\n\u001b[1;32m   1034\u001b[0m     mimetype \u001b[39m=\u001b[39m \u001b[39mself\u001b[39m\u001b[39m.\u001b[39m_mimetype\n\u001b[0;32m-> 1035\u001b[0m     data, metadata \u001b[39m=\u001b[39m \u001b[39mself\u001b[39;49m\u001b[39m.\u001b[39;49m_data_and_metadata(always_both\u001b[39m=\u001b[39;49m\u001b[39mTrue\u001b[39;49;00m)\n\u001b[1;32m   1036\u001b[0m     \u001b[39mif\u001b[39;00m metadata:\n\u001b[1;32m   1037\u001b[0m         metadata \u001b[39m=\u001b[39m {mimetype: metadata}\n",
      "File \u001b[0;32m~/anaconda3/envs/lyft/lib/python3.9/site-packages/IPython/core/display.py:1047\u001b[0m, in \u001b[0;36mImage._data_and_metadata\u001b[0;34m(self, always_both)\u001b[0m\n\u001b[1;32m   1045\u001b[0m     b64_data \u001b[39m=\u001b[39m b2a_base64(\u001b[39mself\u001b[39m\u001b[39m.\u001b[39mdata, newline\u001b[39m=\u001b[39m\u001b[39mFalse\u001b[39;00m)\u001b[39m.\u001b[39mdecode(\u001b[39m\"\u001b[39m\u001b[39mascii\u001b[39m\u001b[39m\"\u001b[39m)\n\u001b[1;32m   1046\u001b[0m \u001b[39mexcept\u001b[39;00m \u001b[39mTypeError\u001b[39;00m \u001b[39mas\u001b[39;00m e:\n\u001b[0;32m-> 1047\u001b[0m     \u001b[39mraise\u001b[39;00m \u001b[39mFileNotFoundError\u001b[39;00m(\n\u001b[1;32m   1048\u001b[0m         \u001b[39m\"\u001b[39m\u001b[39mNo such file or directory: \u001b[39m\u001b[39m'\u001b[39m\u001b[39m%s\u001b[39;00m\u001b[39m'\u001b[39m\u001b[39m\"\u001b[39m \u001b[39m%\u001b[39m (\u001b[39mself\u001b[39m\u001b[39m.\u001b[39mdata)) \u001b[39mfrom\u001b[39;00m \u001b[39me\u001b[39;00m\n\u001b[1;32m   1049\u001b[0m md \u001b[39m=\u001b[39m {}\n\u001b[1;32m   1050\u001b[0m \u001b[39mif\u001b[39;00m \u001b[39mself\u001b[39m\u001b[39m.\u001b[39mmetadata:\n",
      "\u001b[0;31mFileNotFoundError\u001b[0m: No such file or directory: 'kitti_format/image_2/095d5bb88eb9cdd223b90d2a1475c0cf2f4b4c2a8aca82ba0ae51f6fba540440.png'"
     ]
    },
    {
     "ename": "FileNotFoundError",
     "evalue": "No such file or directory: 'kitti_format/image_2/095d5bb88eb9cdd223b90d2a1475c0cf2f4b4c2a8aca82ba0ae51f6fba540440.png'",
     "output_type": "error",
     "traceback": [
      "\u001b[0;31m---------------------------------------------------------------------------\u001b[0m",
      "\u001b[0;31mTypeError\u001b[0m                                 Traceback (most recent call last)",
      "File \u001b[0;32m~/anaconda3/envs/lyft/lib/python3.9/site-packages/IPython/core/display.py:1045\u001b[0m, in \u001b[0;36mImage._data_and_metadata\u001b[0;34m(self, always_both)\u001b[0m\n\u001b[1;32m   1044\u001b[0m \u001b[39mtry\u001b[39;00m:\n\u001b[0;32m-> 1045\u001b[0m     b64_data \u001b[39m=\u001b[39m b2a_base64(\u001b[39mself\u001b[39;49m\u001b[39m.\u001b[39;49mdata, newline\u001b[39m=\u001b[39;49m\u001b[39mFalse\u001b[39;49;00m)\u001b[39m.\u001b[39mdecode(\u001b[39m\"\u001b[39m\u001b[39mascii\u001b[39m\u001b[39m\"\u001b[39m)\n\u001b[1;32m   1046\u001b[0m \u001b[39mexcept\u001b[39;00m \u001b[39mTypeError\u001b[39;00m \u001b[39mas\u001b[39;00m e:\n",
      "\u001b[0;31mTypeError\u001b[0m: a bytes-like object is required, not 'str'",
      "\nThe above exception was the direct cause of the following exception:\n",
      "\u001b[0;31mFileNotFoundError\u001b[0m                         Traceback (most recent call last)",
      "File \u001b[0;32m~/anaconda3/envs/lyft/lib/python3.9/site-packages/IPython/core/formatters.py:344\u001b[0m, in \u001b[0;36mBaseFormatter.__call__\u001b[0;34m(self, obj)\u001b[0m\n\u001b[1;32m    342\u001b[0m     method \u001b[39m=\u001b[39m get_real_method(obj, \u001b[39mself\u001b[39m\u001b[39m.\u001b[39mprint_method)\n\u001b[1;32m    343\u001b[0m     \u001b[39mif\u001b[39;00m method \u001b[39mis\u001b[39;00m \u001b[39mnot\u001b[39;00m \u001b[39mNone\u001b[39;00m:\n\u001b[0;32m--> 344\u001b[0m         \u001b[39mreturn\u001b[39;00m method()\n\u001b[1;32m    345\u001b[0m     \u001b[39mreturn\u001b[39;00m \u001b[39mNone\u001b[39;00m\n\u001b[1;32m    346\u001b[0m \u001b[39melse\u001b[39;00m:\n",
      "File \u001b[0;32m~/anaconda3/envs/lyft/lib/python3.9/site-packages/IPython/core/display.py:1067\u001b[0m, in \u001b[0;36mImage._repr_png_\u001b[0;34m(self)\u001b[0m\n\u001b[1;32m   1065\u001b[0m \u001b[39mdef\u001b[39;00m \u001b[39m_repr_png_\u001b[39m(\u001b[39mself\u001b[39m):\n\u001b[1;32m   1066\u001b[0m     \u001b[39mif\u001b[39;00m \u001b[39mself\u001b[39m\u001b[39m.\u001b[39membed \u001b[39mand\u001b[39;00m \u001b[39mself\u001b[39m\u001b[39m.\u001b[39mformat \u001b[39m==\u001b[39m \u001b[39mself\u001b[39m\u001b[39m.\u001b[39m_FMT_PNG:\n\u001b[0;32m-> 1067\u001b[0m         \u001b[39mreturn\u001b[39;00m \u001b[39mself\u001b[39;49m\u001b[39m.\u001b[39;49m_data_and_metadata()\n",
      "File \u001b[0;32m~/anaconda3/envs/lyft/lib/python3.9/site-packages/IPython/core/display.py:1047\u001b[0m, in \u001b[0;36mImage._data_and_metadata\u001b[0;34m(self, always_both)\u001b[0m\n\u001b[1;32m   1045\u001b[0m     b64_data \u001b[39m=\u001b[39m b2a_base64(\u001b[39mself\u001b[39m\u001b[39m.\u001b[39mdata, newline\u001b[39m=\u001b[39m\u001b[39mFalse\u001b[39;00m)\u001b[39m.\u001b[39mdecode(\u001b[39m\"\u001b[39m\u001b[39mascii\u001b[39m\u001b[39m\"\u001b[39m)\n\u001b[1;32m   1046\u001b[0m \u001b[39mexcept\u001b[39;00m \u001b[39mTypeError\u001b[39;00m \u001b[39mas\u001b[39;00m e:\n\u001b[0;32m-> 1047\u001b[0m     \u001b[39mraise\u001b[39;00m \u001b[39mFileNotFoundError\u001b[39;00m(\n\u001b[1;32m   1048\u001b[0m         \u001b[39m\"\u001b[39m\u001b[39mNo such file or directory: \u001b[39m\u001b[39m'\u001b[39m\u001b[39m%s\u001b[39;00m\u001b[39m'\u001b[39m\u001b[39m\"\u001b[39m \u001b[39m%\u001b[39m (\u001b[39mself\u001b[39m\u001b[39m.\u001b[39mdata)) \u001b[39mfrom\u001b[39;00m \u001b[39me\u001b[39;00m\n\u001b[1;32m   1049\u001b[0m md \u001b[39m=\u001b[39m {}\n\u001b[1;32m   1050\u001b[0m \u001b[39mif\u001b[39;00m \u001b[39mself\u001b[39m\u001b[39m.\u001b[39mmetadata:\n",
      "\u001b[0;31mFileNotFoundError\u001b[0m: No such file or directory: 'kitti_format/image_2/095d5bb88eb9cdd223b90d2a1475c0cf2f4b4c2a8aca82ba0ae51f6fba540440.png'"
     ]
    },
    {
     "data": {
      "text/plain": [
       "<IPython.core.display.Image object>"
      ]
     },
     "execution_count": 22,
     "metadata": {},
     "output_type": "execute_result"
    }
   ],
   "source": [
    "path = 'kitti_format/image_2/095d5bb88eb9cdd223b90d2a1475c0cf2f4b4c2a8aca82ba0ae51f6fba540440.png'\n",
    "from IPython.display import Image\n",
    "Image(path)"
   ]
  },
  {
   "cell_type": "code",
   "execution_count": null,
   "metadata": {},
   "outputs": [],
   "source": [
    "!ls ./kitti_format/label_2/ | wc -l"
   ]
  },
  {
   "cell_type": "code",
   "execution_count": null,
   "metadata": {},
   "outputs": [],
   "source": [
    "!ls ./kitti_format/image_2/ | wc -l"
   ]
  },
  {
   "cell_type": "code",
   "execution_count": null,
   "metadata": {},
   "outputs": [],
   "source": [
    "!ls ./kitti_format/render | wc -l"
   ]
  },
  {
   "cell_type": "markdown",
   "metadata": {},
   "source": [
    "### 40 denotes, 20 samples were taken - which was then splitted into 20 lidar + 20 camera images"
   ]
  },
  {
   "cell_type": "code",
   "execution_count": null,
   "metadata": {},
   "outputs": [],
   "source": []
  }
 ],
 "metadata": {
  "kernelspec": {
   "display_name": "Python 3",
   "language": "python",
   "name": "python3"
  },
  "language_info": {
   "codemirror_mode": {
    "name": "ipython",
    "version": 3
   },
   "file_extension": ".py",
   "mimetype": "text/x-python",
   "name": "python",
   "nbconvert_exporter": "python",
   "pygments_lexer": "ipython3",
   "version": "3.9.16"
  }
 },
 "nbformat": 4,
 "nbformat_minor": 4
}
